{
  "cells": [
    {
      "cell_type": "markdown",
      "id": "82ea5251",
      "metadata": {},
      "source": [
        "## ¿Qué es `pip`?\n",
        "\n",
        "* `pip` es el gestor de paquetes oficial de Python.\n",
        "* Permite instalar, actualizar y desinstalar paquetes y librerías de Python de manera sencilla.\n",
        "* Antes de `pip`, instalar paquetes requería descargar manualmente el código y moverlo a las carpetas de Python.\n",
        "\n",
        "### Nombre\n",
        "\n",
        "* Se llama **pip** como acrónimo recursivo:\n",
        "\n",
        "  > \"Pip Installs Packages\"\n",
        "* La idea es que con un solo comando instalar cualquier librería de Python.\n",
        "\n",
        "## Para qué sirve `pip`\n",
        "\n",
        "1. **Instalar paquetes de Python**\n",
        "\n",
        "   ```bash\n",
        "   pip install nombre_paquete\n",
        "   ```\n",
        "\n",
        "   Ejemplo:\n",
        "\n",
        "   ```bash\n",
        "   pip install numpy\n",
        "   ```\n",
        "\n",
        "2. **Actualizar paquetes existentes**\n",
        "\n",
        "   ```bash\n",
        "   pip install --upgrade nombre_paquete\n",
        "   ```\n",
        "\n",
        "   Ejemplo:\n",
        "\n",
        "   ```bash\n",
        "   pip install --upgrade pandas\n",
        "   ```\n",
        "\n",
        "3. **Desinstalar paquetes**\n",
        "\n",
        "   ```bash\n",
        "   pip uninstall nombre_paquete\n",
        "   ```\n",
        "\n",
        "4. **Listar paquetes instalados**\n",
        "\n",
        "   ```bash\n",
        "   pip list\n",
        "   ```\n",
        "\n",
        "5. **Ver información de un paquete**\n",
        "\n",
        "   ```bash\n",
        "   pip show nombre_paquete\n",
        "   ```\n",
        "\n",
        "## Cómo instalar Jupyter Notebook con `pip`\n",
        "\n",
        "1. Abrir la terminal o consola.\n",
        "2. Instalar Jupyter:\n",
        "\n",
        "   ```bash\n",
        "   pip install notebook\n",
        "   ```\n",
        "3. Ejecutar Jupyter Notebook:\n",
        "\n",
        "   ```bash\n",
        "   jupyter notebook\n",
        "   ```\n",
        "\n",
        "   * Esto abrirá una interfaz web donde se puede crear y ejecutar celdas de Python y Markdown.\n"
      ]
    },
    {
      "cell_type": "markdown",
      "id": "15f12665",
      "metadata": {},
      "source": [
        "## ¿Qué es Jupyter Notebook?\n",
        "\n",
        "Jupyter Notebook es una **herramienta interactiva** que permite:\n",
        "\n",
        "* Escribir y ejecutar código en Python (y otros lenguajes).\n",
        "* Combinar **código**, **texto en Markdown**, **imágenes**, **tablas** y **gráficos** en un mismo documento.\n",
        "* Documentar de manera **reproducible** experimentos, análisis y proyectos.\n",
        "\n",
        "## Conceptos básicos\n",
        "\n",
        "### Kernel\n",
        "\n",
        "* El **kernel** es el motor que ejecuta el código del notebook.\n",
        "* Cada notebook tiene su propio kernel.\n",
        "* Si se reinicia el kernel, todas las variables y resultados en memoria se pierden.\n",
        "\n",
        "### Celdas\n",
        "\n",
        "Jupyter Notebook organiza el contenido en **celdas**:\n",
        "\n",
        "1. **Celdas de código:**\n",
        "\n",
        "   * Contienen código Python (u otro lenguaje si el kernel lo soporta).\n",
        "   * Se ejecutan y muestran resultados inmediatamente debajo.\n",
        "\n",
        "2. **Celdas Markdown:**\n",
        "\n",
        "   * Contienen texto con formato (Markdown).\n",
        "   * Sirven para títulos, explicaciones, ecuaciones, imágenes y tablas.\n",
        "\n",
        "## Crear un nuevo cuaderno en VS Code\n",
        "\n",
        "1. Instalar la extensión **Python** y **Jupyter** si no están instaladas.\n",
        "1. Presionar `Ctrl + Shift + P` o `F1` (Paleta de Comandos) y escribir **Create: New Jupyter Notebook**.\n",
        "1. Elegir el kernel de Python que se desea usar.\n",
        "1. Guardar el cuaderno con extensión `.ipynb`.\n",
        "\n",
        "## Atajos útiles de teclado\n",
        "\n",
        "| Atajo           | Función                                          |\n",
        "| --------------- | ------------------------------------------------ |\n",
        "| `a`             | Insertar una nueva celda **arriba** de la actual |\n",
        "| `b`             | Insertar una nueva celda **abajo** de la actual  |\n",
        "| `m`             | Cambiar la celda a **Markdown**                  |\n",
        "| `y`             | Cambiar la celda a **Código**                    |\n",
        "| `Shift + Enter` | Ejecutar la celda y pasar a la siguiente         |\n",
        "| `Ctrl + Enter`  | Ejecutar la celda sin moverse                    |\n",
        "| `Esc`           | Salir del modo edición (modo comando)            |\n",
        "| `Enter`         | Entrar en modo edición de la celda seleccionada  |\n"
      ]
    },
    {
      "cell_type": "markdown",
      "id": "172340c9",
      "metadata": {},
      "source": [
        "## F-strings en Python\n",
        "\n",
        "Las f-strings (formatted string literals) son una forma moderna y conveniente de formatear cadenas en Python (introducidas en Python 3.6).\n",
        "\n",
        "* Se escriben anteponiendo la letra `f` antes de las comillas de la cadena.\n",
        "* Permiten insertar expresiones directamente dentro de `{}`.\n",
        "* Soportan variables, operaciones y llamadas a funciones dentro de las llaves.\n",
        "\n",
        "### Ventajas\n",
        "\n",
        "* Más legibles y concisas que el uso de `+` para concatenar.\n",
        "* Permiten formateo de números, fechas y alineación de texto directamente.\n",
        "\n",
        "### Ejemplo básico"
      ]
    },
    {
      "cell_type": "code",
      "execution_count": null,
      "id": "67a31794",
      "metadata": {},
      "outputs": [],
      "source": [
        "nombre = \"Miguel\"\n",
        "edad = 20\n",
        "\n",
        "# print(\"Hola\", nombre, \"el próximo año tendrás\", edad + 1, \"años.\")\n",
        "\n",
        "# Usando f-string\n",
        "mensaje = f\"Hola, mi nombre es {nombre} y tengo {edad} años.\"\n",
        "print(mensaje)"
      ]
    },
    {
      "cell_type": "markdown",
      "id": "23e5f4ce",
      "metadata": {},
      "source": [
        "### Ejemplo con operaciones dentro de la f-string"
      ]
    },
    {
      "cell_type": "code",
      "execution_count": null,
      "id": "88431f25",
      "metadata": {},
      "outputs": [],
      "source": [
        "a = 5\n",
        "b = 3\n",
        "\n",
        "print(f\"La suma de {a} + {b} es {a + b}\")"
      ]
    },
    {
      "cell_type": "markdown",
      "id": "e9a82ffb",
      "metadata": {},
      "source": [
        "### Ejemplo con formato de números"
      ]
    },
    {
      "cell_type": "code",
      "execution_count": null,
      "id": "3eeafe81",
      "metadata": {},
      "outputs": [],
      "source": [
        "pi = 3.14159265\n",
        "print(f\"Valor de pi con 2 decimales: {pi:.2f}\")"
      ]
    },
    {
      "cell_type": "markdown",
      "id": "8b0832b1",
      "metadata": {},
      "source": [
        "### `{pi:.2f}`\n",
        "\n",
        "1. **`pi`** → la variable cuyo valor queremos mostrar.\n",
        "2. **`:`** → separa la variable de la especificación del formato.\n",
        "3. **`.2`** → indica 2 decimales.\n",
        "4. **`f`** → indica que el número se mostrará como float (punto flotant)\n"
      ]
    },
    {
      "cell_type": "markdown",
      "metadata": {},
      "source": [
        "## 1. Estructuras de control: Condicionales\n",
        "\n",
        "Los condicionales en Python permiten que el programa tome decisiones basadas en condiciones lógicas. Utilizamos las palabras clave `if`, `elif` (else if) y `else` para estructurar estas decisiones. Las condiciones se evalúan como verdaderas (`True`) o falsas (`False`), y el código indentado debajo de cada cláusula se ejecuta solo si la condición se cumple.\n",
        "\n",
        "### Sintaxis básica:\n",
        "- `if condición:`\n",
        "- `elif otra_condición:` (opcional, puede haber múltiples)\n",
        "- `else:` (opcional)\n",
        "\n",
        "### Operadores de comparación:\n",
        "- `==` (igual a)\n",
        "- `!=` (diferente de)\n",
        "- `>` (mayor que)\n",
        "- `<` (menor que)\n",
        "- `>=` (mayor o igual que)\n",
        "- `<=` (menor o igual que)\n",
        "\n",
        "### Operadores lógicos:\n",
        "- `and` (y)\n",
        "- `or` (o)\n",
        "- `not` (no)\n",
        "\n",
        "### Ejemplo básico:"
      ]
    },
    {
      "cell_type": "code",
      "execution_count": null,
      "metadata": {},
      "outputs": [],
      "source": [
        "edad = int(input(\"¿Cuántos años tienes? \"))\n",
        "if edad < 18:\n",
        "    print(\"Eres menor de edad.\")\n",
        "elif edad >= 18 and edad < 65:\n",
        "    print(\"Eres adulto.\")\n",
        "else:\n",
        "    print(\"Eres adulto mayor.\")"
      ]
    },
    {
      "cell_type": "markdown",
      "metadata": {},
      "source": [
        "### Ejercicio 1: Condicionales\n",
        "\n",
        "Escribe un programa que pida un número al usuario y determine si es par o impar usando un condicional."
      ]
    },
    {
      "cell_type": "code",
      "execution_count": null,
      "metadata": {},
      "outputs": [],
      "source": [
        "numero = int(input(\"Ingresa un número: \"))\n",
        "if numero % 2 == 0:\n",
        "    print(\"El número es par.\")\n",
        "else:\n",
        "    print(\"El número es impar.\")"
      ]
    },
    {
      "cell_type": "markdown",
      "metadata": {},
      "source": [
        "## 2. Bucles: `for` y `while`\n",
        "\n",
        "Los bucles permiten repetir un bloque de código múltiples veces. Python ofrece dos tipos principales: `for` (para iterar sobre una secuencia) y `while` (para repetir mientras una condición sea verdadera).\n",
        "\n",
        "### Bucle `for`:\n",
        "- Ideal para iterar sobre listas, rangos o secuencias conocidas.\n",
        "- Sintaxis: `for variable in secuencia:`\n",
        "- La función `range(inicio, fin, paso)` genera una secuencia de números.\n",
        "\n",
        "### Ejemplo con `for`:"
      ]
    },
    {
      "cell_type": "code",
      "execution_count": null,
      "metadata": {},
      "outputs": [],
      "source": [
        "for i in range(0, 5, 1):  # range(inicio, fin, paso)\n",
        "    print(\"Número:\", i)"
      ]
    },
    {
      "cell_type": "markdown",
      "metadata": {},
      "source": [
        "### Bucle `while`:\n",
        "- Se ejecuta mientras la condición sea verdadera.\n",
        "- Sintaxis: `while condición:`\n",
        "- Bucles infinitos: Asegurarse de que la condición eventualmente sea falsa.\n",
        "\n",
        "### Ejemplo con `while`:"
      ]
    },
    {
      "cell_type": "code",
      "execution_count": null,
      "metadata": {},
      "outputs": [],
      "source": [
        "contador = 0\n",
        "while contador < 5:\n",
        "    print(\"Contador:\", contador)\n",
        "    contador += 1  # Incrementa el contador para evitar bucle infinito"
      ]
    },
    {
      "cell_type": "markdown",
      "metadata": {},
      "source": [
        "### Ejercicio 2: Bucles\n",
        "\n",
        "Usa un bucle `for` para imprimir los números pares del 0 al 10."
      ]
    },
    {
      "cell_type": "code",
      "execution_count": null,
      "metadata": {},
      "outputs": [],
      "source": [
        "for i in range(0, 11, 2):\n",
        "    print(i)"
      ]
    },
    {
      "cell_type": "markdown",
      "metadata": {},
      "source": [
        "## 3. Listas\n",
        "\n",
        "Las listas son colecciones ordenadas y mutables de elementos. Pueden contener datos de diferentes tipos y se definen con corchetes `[]`. Son muy versátiles para almacenar y manipular datos.\n",
        "\n",
        "Ordenadas implica que los elementos conservan un orden fijo determinado al momento de su incorporación, permitiendo el acceso mediante índices (por ejemplo, `lista[0]` para el primer elemento), y dicho orden permanece invariable salvo que se realice una modificación explícita.\n",
        "\n",
        "Por otro lado, mutable significa que permite alterar su contenido tras su creación, mediante la adición, eliminación o modificación de elementos —por ejemplo, utilizando `append()` para agregar un elemento, `remove()` para eliminarlo, o asignando un nuevo valor a un índice específico como `lista[0] = \"pera\"`. Esta característica las distingue de estructuras inmutables como las tuplas, cuya contenido no puede modificarse una vez establecido.\n",
        "\n",
        "### Operaciones comunes:\n",
        "- Acceso: `lista[index]` (índices comienzan en 0)\n",
        "- Agregar: `lista.append(elemento)`\n",
        "- Eliminar: `lista.remove(elemento)` o `del lista[index]`\n",
        "- Longitud: `len(lista)`\n",
        "- Slicing: `lista[start:end:step]`\n",
        "- Ordenar: `lista.sort()`\n",
        "\n",
        "### Ejemplo:"
      ]
    },
    {
      "cell_type": "code",
      "execution_count": null,
      "metadata": {},
      "outputs": [],
      "source": [
        "frutas = [\"manzana\", \"banana\", \"naranja\"]\n",
        "print(frutas[0])  # Acceso al primer elemento\n",
        "frutas.append(\"pera\")  # Agregar un elemento\n",
        "print(frutas)\n",
        "frutas.remove(\"banana\")  # Eliminar un elemento\n",
        "print(frutas)\n",
        "print(\"Longitud:\", len(frutas))\n",
        "print(\"Slicing:\", frutas[0:2])  # Elementos 0 y 1\n",
        "frutas.sort()\n",
        "print(\"Ordenado:\", frutas)"
      ]
    },
    {
      "cell_type": "markdown",
      "metadata": {},
      "source": [
        "### Ejercicio 3: Listas\n",
        "\n",
        "Crea una lista con 5 números, ordénala de menor a mayor y luego imprime el número en la posición central (mitad de la lista)."
      ]
    },
    {
      "cell_type": "code",
      "execution_count": null,
      "metadata": {},
      "outputs": [],
      "source": [
        "numeros = [4, 1, 7, 3, 9]\n",
        "numeros.sort()\n",
        "central = numeros[len(numeros) // 2]\n",
        "print(\"Lista ordenada:\", numeros)\n",
        "print(\"Número central:\", central)"
      ]
    },
    {
      "cell_type": "markdown",
      "metadata": {},
      "source": [
        "## 4. Funciones personalizadas\n",
        "\n",
        "Las funciones permiten encapsular código reutilizable. Se definen con `def` y pueden tener parámetros, valores por defecto y retornar resultados usando `return`.\n",
        "\n",
        "### Sintaxis:\n",
        "- `def nombre_funcion(parametros):`\n",
        "- `return valor` (opcional)\n",
        "\n",
        "### Parámetros por defecto:\n",
        "- Ejemplo: `def funcion(param=valor):`\n",
        "\n",
        "### Ejemplo:"
      ]
    },
    {
      "cell_type": "code",
      "execution_count": null,
      "metadata": {},
      "outputs": [],
      "source": [
        "def sumar(a, b=0):  # b tiene valor por defecto\n",
        "    return a + b\n",
        "\n",
        "resultado = sumar(3, 5)\n",
        "print(\"La suma es:\", resultado)\n",
        "print(\"Suma con defecto:\", sumar(3))  # Usa b=0"
      ]
    },
    {
      "cell_type": "markdown",
      "metadata": {},
      "source": [
        "### Ejercicio 4: Funciones\n",
        "\n",
        "Define una función que reciba una lista de números y retorne la suma de todos ellos."
      ]
    },
    {
      "cell_type": "code",
      "execution_count": null,
      "metadata": {},
      "outputs": [],
      "source": [
        "def sumar_lista(numeros):\n",
        "    total = 0\n",
        "    for num in numeros:\n",
        "        # total = total + num\n",
        "        total += num\n",
        "    return total\n",
        "\n",
        "lista = [1, 2, 3, 4, 5]\n",
        "print(\"Suma de la lista:\", sumar_lista(lista))"
      ]
    },
    {
      "cell_type": "markdown",
      "metadata": {},
      "source": [
        "## 5. Actividad final\n",
        "\n",
        "Crea un programa que:\n",
        "1. Solicite al usuario una lista de números (separados por espacios). (Investigar métodos para las variables tipo str) (¿Qué es una comprensión de lista? ¿Cuál es su sintaxis?)\n",
        "2. Calcule la suma, el promedio, el número mayor y el número menor. (¿Habrá funciones integradas en Python para obtener el mayor/menor número de una lista?)\n",
        "3. Muestre todos los resultados.\n",
        "\n",
        "Subir únicamente un documento PDF que contenga el código del programa y capturas de pantalla del resultado al ejecutarlo."
      ]
    }
  ],
  "metadata": {
    "kernelspec": {
      "display_name": "Python 3",
      "language": "python",
      "name": "python3"
    },
    "language_info": {
      "codemirror_mode": {
        "name": "ipython",
        "version": 3
      },
      "file_extension": ".py",
      "mimetype": "text/x-python",
      "name": "python",
      "nbconvert_exporter": "python",
      "pygments_lexer": "ipython3",
      "version": "3.13.5"
    }
  },
  "nbformat": 4,
  "nbformat_minor": 5
}
